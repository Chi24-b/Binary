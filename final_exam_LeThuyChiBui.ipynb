{
  "nbformat": 4,
  "nbformat_minor": 0,
  "metadata": {
    "colab": {
      "provenance": [],
      "authorship_tag": "ABX9TyPXGH7iwtYqNfwgTcQoASOr",
      "include_colab_link": true
    },
    "kernelspec": {
      "name": "python3",
      "display_name": "Python 3"
    },
    "language_info": {
      "name": "python"
    }
  },
  "cells": [
    {
      "cell_type": "markdown",
      "metadata": {
        "id": "view-in-github",
        "colab_type": "text"
      },
      "source": [
        "<a href=\"https://colab.research.google.com/github/Chi24-b/Binary/blob/main/final_exam_LeThuyChiBui.ipynb\" target=\"_parent\"><img src=\"https://colab.research.google.com/assets/colab-badge.svg\" alt=\"Open In Colab\"/></a>"
      ]
    },
    {
      "cell_type": "markdown",
      "source": [
        "# Section 1: Iterative Prompt Engineering\n",
        "---\n",
        "#  1.1 Initial Prompt & Pseudocode\n",
        "**My initial prompt:**"
      ],
      "metadata": {
        "id": "QrVKxgNkLfmU"
      }
    },
    {
      "cell_type": "code",
      "execution_count": null,
      "metadata": {
        "id": "4bXyn_xLLMg0"
      },
      "outputs": [],
      "source": [
        "I'm working on a basic command-line Task Manager for my Python course. The program should be beginner-friendly and follow everything we’ve learned so far. It needs to show a simple text menu, also let users add a task which will be stored in a list, list all current tasks, remove a task by its number, then quit the program when the user chooses. Can you help me write clear step-by-step pseudocode for this? Please only use the techniques we've covered through Week 10: things like simple lists, while loops for menus, basic functions, and try/except blocks for error handling. No advanced stuff like classes or fancy libraries—just the core concepts we’ve been learning."
      ]
    },
    {
      "cell_type": "markdown",
      "source": [
        "**AI’s Pseudocode Response:**"
      ],
      "metadata": {
        "id": "WLRaSb9pSPPh"
      }
    },
    {
      "cell_type": "code",
      "source": [
        "Absolutely! Here's **clear step-by-step pseudocode** for a beginner-friendly **command-line Task Manager** using only the techniques covered up to Week 10 of your course (lists, functions, loops, basic input validation, try/except):\n",
        "\n",
        "---\n",
        "\n",
        "### 🧠 **Pseudocode: Task Manager (Beginner Level)**\n",
        "\n",
        "```text\n",
        "1. Define function: display_menu()\n",
        "   - Print numbered options:\n",
        "     1. Add task\n",
        "     2. List tasks\n",
        "     3. Remove task\n",
        "     4. Quit\n",
        "\n",
        "2. Define function: get_user_choice()\n",
        "   - Use a while loop:\n",
        "     - Ask user to enter a number (1-4)\n",
        "     - Try to convert input to integer\n",
        "       - If successful and in range, return the choice\n",
        "       - Else, print \"Invalid option, please choose between 1 and 4\"\n",
        "     - Catch ValueError and show error message\n",
        "\n",
        "3. Define function: add_task(task_list)\n",
        "   - Ask user to enter the task description\n",
        "   - Use strip() to remove extra spaces\n",
        "   - If task is not empty:\n",
        "       - Append to task_list\n",
        "       - Confirm: \"Task added\"\n",
        "   - Else:\n",
        "       - Show error: \"Task cannot be empty\"\n",
        "\n",
        "4. Define function: list_tasks(task_list)\n",
        "   - If task_list is empty:\n",
        "       - Print \"No tasks yet!\"\n",
        "   - Else:\n",
        "       - Loop through task_list with index:\n",
        "         - Print each task with its number (starting from 1)\n",
        "\n",
        "5. Define function: remove_task(task_list)\n",
        "   - If task_list is empty:\n",
        "       - Print \"No tasks to remove\"\n",
        "       - Return\n",
        "   - Else:\n",
        "       - Call list_tasks(task_list)\n",
        "       - Ask user for task number to remove\n",
        "       - Try:\n",
        "           - Convert input to integer\n",
        "           - Subtract 1 to get index\n",
        "           - Check if index is valid\n",
        "               - If valid, delete task and confirm\n",
        "               - Else, print \"Task number out of range\"\n",
        "         - Catch ValueError and print error message\n",
        "\n",
        "6. Define function: main()\n",
        "   - Create an empty list called task_list\n",
        "   - While True:\n",
        "       - Call display_menu()\n",
        "       - Get user choice using get_user_choice()\n",
        "       - If choice is 1: call add_task(task_list)\n",
        "       - If choice is 2: call list_tasks(task_list)\n",
        "       - If choice is 3: call remove_task(task_list)\n",
        "       - If choice is 4: print \"Goodbye!\" and break loop\n",
        "\n",
        "7. At the bottom, call main() to start the program\n",
        "```\n",
        "\n",
        "---\n",
        "\n",
        "✅ **Only uses:**\n",
        "\n",
        "* Lists for task storage\n",
        "* Functions with parameters\n",
        "* While loops for menus\n",
        "* Try/except blocks for input validation\n",
        "* `input()`, `print()`, `int()`\n",
        "* Basic list operations: `append()`, `del`, `enumerate()`\n",
        "\n",
        "Let me know if you'd like me to help you convert this pseudocode into actual Python code that fits your assignment structure!\n"
      ],
      "metadata": {
        "id": "PvkTiTRlSRhm"
      },
      "execution_count": null,
      "outputs": []
    },
    {
      "cell_type": "markdown",
      "source": [
        "**Course Reference:** I used the planning method from Week 2: Computational Thinking and Problem Decomposition, applying structured pseudocode planning. I also drew on key coding techniques from Week 4 (Functions), and Week 5 (Loops and Lists) to keep my logic clear, modular, and robust while staying within course constraints\n"
      ],
      "metadata": {
        "id": "0iMTXhySSsUz"
      }
    },
    {
      "cell_type": "markdown",
      "source": [
        "#  1.2 Two Refinements\n",
        "**First Refinement::**"
      ],
      "metadata": {
        "id": "zwdgcsX1UtME"
      }
    },
    {
      "cell_type": "code",
      "source": [
        "The initial pseudocode works, but it assumes the user will always enter valid inputs. I want to improve the program so it’s more robust when users make mistakes. Can you refine the pseudocode so that the menu option input is validated (e.g., if someone types \"abc\" instead of 2), and the task removal input checks for valid numbers and handles out-of-range indexes. Remember only use basic try/except and looping techniques from an introductory Python course."
      ],
      "metadata": {
        "id": "aootdgpcUs1t"
      },
      "execution_count": null,
      "outputs": []
    },
    {
      "cell_type": "markdown",
      "source": [
        "**AI’s Updated Pseudocode:**"
      ],
      "metadata": {
        "id": "R--1Gt0VVOC5"
      }
    },
    {
      "cell_type": "code",
      "source": [
        "Absolutely, Chi! Let’s refine your **pseudocode** to include **stronger input validation** using only techniques from an **introductory Python course** (Week 1–10), including:\n",
        "\n",
        "* `try/except` blocks to catch invalid input\n",
        "* `while` loops to re-prompt until valid\n",
        "* Range checks for valid menu choices and task indices\n",
        "\n",
        "---\n",
        "\n",
        "### ✅ **Refined & Robust Pseudocode: Beginner Task Manager**\n",
        "\n",
        "```text\n",
        "1. Define function: display_menu()\n",
        "   - Print:\n",
        "     1. Add task\n",
        "     2. List tasks\n",
        "     3. Remove task\n",
        "     4. Quit\n",
        "\n",
        "2. Define function: get_user_choice()\n",
        "   - Loop forever:\n",
        "     - Prompt: \"Choose an option (1–4): \"\n",
        "     - Try:\n",
        "         - Convert input to integer\n",
        "         - If input is between 1 and 4 (inclusive), return it\n",
        "         - Else, print \"Invalid option. Please choose a number between 1 and 4.\"\n",
        "     - Except ValueError:\n",
        "         - Print \"Please enter a valid number.\"\n",
        "\n",
        "3. Define function: add_task(task_list)\n",
        "   - Prompt: \"Enter task description: \"\n",
        "   - Strip whitespace from input\n",
        "   - If input is not empty:\n",
        "       - Append to task_list\n",
        "       - Print: \"Task added.\"\n",
        "   - Else:\n",
        "       - Print: \"Task cannot be empty.\"\n",
        "\n",
        "4. Define function: list_tasks(task_list)\n",
        "   - If task_list is empty:\n",
        "       - Print: \"No tasks yet.\"\n",
        "   - Else:\n",
        "       - Loop over task_list with index:\n",
        "         - Print: index+1 and task (start numbering from 1)\n",
        "\n",
        "5. Define function: remove_task(task_list)\n",
        "   - If task_list is empty:\n",
        "       - Print: \"No tasks to remove.\"\n",
        "       - Return\n",
        "   - Call list_tasks(task_list)\n",
        "   - Loop forever:\n",
        "       - Prompt: \"Enter task number to remove: \"\n",
        "       - Try:\n",
        "           - Convert input to integer\n",
        "           - Subtract 1 to get correct index\n",
        "           - If index is in valid range (0 to len(task_list) - 1):\n",
        "               - Delete task at that index\n",
        "               - Print: \"Task removed.\"\n",
        "               - Break loop\n",
        "           - Else:\n",
        "               - Print: \"That number doesn't match any task.\"\n",
        "       - Except ValueError:\n",
        "           - Print: \"Please enter a valid number.\"\n",
        "\n",
        "6. Define function: main()\n",
        "   - Create an empty list called task_list\n",
        "   - Loop forever:\n",
        "       - Call display_menu()\n",
        "       - Get user's choice using get_user_choice()\n",
        "       - If choice is 1: call add_task(task_list)\n",
        "       - If choice is 2: call list_tasks(task_list)\n",
        "       - If choice is 3: call remove_task(task_list)\n",
        "       - If choice is 4:\n",
        "           - Print: \"Goodbye!\"\n",
        "           - Break the loop\n",
        "\n",
        "7. At the bottom of the file, call main() to start the program\n",
        "```\n",
        "\n",
        "---\n",
        "\n",
        "### 🔐 Improvements made:\n",
        "\n",
        "* **Menu choice validation**: Handles text like `\"abc\"` or numbers outside 1–4\n",
        "* **Remove task input**: Catches non-integer input and out-of-range indexes\n",
        "* **Empty task check**: Prevents adding blank tasks\n",
        "\n",
        "Would you like this translated into real Python code next, or want help writing doctests for some of these functions?\n"
      ],
      "metadata": {
        "id": "IBYu3E_2VJom"
      },
      "execution_count": null,
      "outputs": []
    },
    {
      "cell_type": "markdown",
      "source": [
        "**Course Reference:** This refinement applied loop-based validation from Week 5: While Loops for Repeated Input, and used safe int() conversion techniques from Week 3: Input Processing and Type Conversion, and Week 10 (Basic Input Validation using Try/Except) to handle invalid input without crashing"
      ],
      "metadata": {
        "id": "ODfgWXVIVUPh"
      }
    },
    {
      "cell_type": "markdown",
      "source": [
        "**Second Refinement::**"
      ],
      "metadata": {
        "id": "CI3XszCxXh8a"
      }
    },
    {
      "cell_type": "code",
      "source": [
        "I want the Task Manager to save tasks so they’re still available the next time I run the program. Can you update the pseudocode to load tasks from a file when the program starts, save tasks to a file whenever the list changes, and use only file techniques we covered in class (e.g., open(), readlines(), write()). No advanced data formats or libraries pls"
      ],
      "metadata": {
        "id": "lhMTzYw1X_IX"
      },
      "execution_count": null,
      "outputs": []
    },
    {
      "cell_type": "markdown",
      "source": [
        "**AI’s Final Pseudocode:**"
      ],
      "metadata": {
        "id": "-ys0ywiTYDU1"
      }
    },
    {
      "cell_type": "code",
      "source": [
        "Perfect! Let’s now **extend your pseudocode** to add **file persistence** using only simple file operations you've learned:\n",
        "\n",
        "✅ Techniques allowed:\n",
        "\n",
        "* `open()`, `.readlines()`, `.write()`\n",
        "* `strip()` and string joining\n",
        "* Basic `with` blocks (or manual open/close)\n",
        "* Only plain `.txt` format (no JSON or pickle)\n",
        "\n",
        "---\n",
        "\n",
        "### 💾 **Updated Pseudocode: Task Manager with File Save/Load**\n",
        "\n",
        "```text\n",
        "1. Define constant: FILENAME = \"tasks.txt\"\n",
        "\n",
        "2. Define function: load_tasks_from_file()\n",
        "   - Create empty list called task_list\n",
        "   - Try:\n",
        "       - Open FILENAME in read mode\n",
        "       - For each line in file:\n",
        "           - Strip newline and append to task_list\n",
        "   - Except FileNotFoundError:\n",
        "       - Print: \"No saved tasks found. Starting fresh.\"\n",
        "   - Return task_list\n",
        "\n",
        "3. Define function: save_tasks_to_file(task_list)\n",
        "   - Open FILENAME in write mode\n",
        "   - For each task in task_list:\n",
        "       - Write task + newline (\"\\n\")\n",
        "\n",
        "4. Update function: add_task(task_list)\n",
        "   - Ask for task input\n",
        "   - If not empty:\n",
        "       - Append to task_list\n",
        "       - Call save_tasks_to_file(task_list)\n",
        "       - Print: \"Task added.\"\n",
        "   - Else: show error\n",
        "\n",
        "5. Update function: remove_task(task_list)\n",
        "   - If list is empty → print message, return\n",
        "   - Show task list\n",
        "   - While loop to validate input\n",
        "       - Try: convert to int, check range\n",
        "           - If valid:\n",
        "               - Delete task\n",
        "               - Call save_tasks_to_file(task_list)\n",
        "               - Print: \"Task removed.\"\n",
        "               - Break\n",
        "           - Else: print range error\n",
        "       - Except: print conversion error\n",
        "\n",
        "6. Keep function: display_menu() (same)\n",
        "\n",
        "7. Keep function: get_user_choice() (same)\n",
        "\n",
        "8. Update function: main()\n",
        "   - Call load_tasks_from_file(), store in task_list\n",
        "   - While loop for menu:\n",
        "       - Call display_menu()\n",
        "       - Get user choice\n",
        "       - Run the matching function:\n",
        "           1 = add_task, 2 = list_tasks, 3 = remove_task\n",
        "           4 = print \"Goodbye\" and break\n",
        "\n",
        "9. At bottom, call main()\n",
        "```\n",
        "\n",
        "---\n",
        "\n",
        "### 🧠 Example of Saved File Format (`tasks.txt`)\n",
        "\n",
        "```\n",
        "Buy groceries\n",
        "Finish homework\n",
        "Call Alice\n",
        "```\n",
        "\n",
        "Each task is on its own line. No special formatting needed.\n",
        "\n",
        "---\n",
        "\n",
        "This version ensures that:\n",
        "\n",
        "* ✅ **Tasks persist** between sessions\n",
        "* ✅ **Only uses text files and `open()`** (no JSON, no classes)\n",
        "* ✅ **Saves immediately after add/remove** to prevent data loss\n",
        "\n",
        "Let me know if you want me to turn this into working Python code that you can test or paste into your Colab!\n"
      ],
      "metadata": {
        "id": "bdiRIbmqYCzC"
      },
      "execution_count": null,
      "outputs": []
    },
    {
      "cell_type": "markdown",
      "source": [
        "**Courese Reference:** This refinement applied basic file operations using `open()` and `.readlines()` from Week 7: Business Data Processing, allowing the Task Manager to persist user data between runs without any advanced libraries."
      ],
      "metadata": {
        "id": "TcRVyum6XZZT"
      }
    },
    {
      "cell_type": "markdown",
      "source": [
        "#  1.3 Critical Analysis with Course References"
      ],
      "metadata": {
        "id": "BraYHWyZYvTp"
      }
    },
    {
      "cell_type": "markdown",
      "source": [
        "**My Analysis (155 words):**\n",
        "\n",
        "My refinements applied structured problem-solving from Week 2: Computational Thinking and Problem Decomposition, which helped break the task manager into small, manageable components. I implemented functions with parameters in Week 4 to organize displaying the menu and modifying the task list. On my second prompt, I added loops and list commands from Week 5 so users could take part in tasks more than once and the program would record and access completed tasks. To enhance input safety, I started using the basic try/except approach for input validation that was covered in Week 10, so now the program is less likely to fail. In the third prompt, I used file handling skills established in Week 7 so my tasks could keep running with open() and readlines(). As I refined the course, I made sure to stay within its limits and boosted the user experience and app reliability by demonstrating how to program in a beginner’s way."
      ],
      "metadata": {
        "id": "0gxXGrP3aPCA"
      }
    },
    {
      "cell_type": "markdown",
      "source": [
        "# Section 2: Debug & Correct with AI\n",
        "---\n",
        "#  2.1 Error Identification\n",
        "**My Initial Error Observations:**\n",
        "* Line 8: Uses tas instead of tasks — possible NameError\n",
        "\n",
        "* Line 14: For loop says enumerate(task) but variable is tasks\n",
        "\n",
        "* Line 22: Function list_task() is called, but it's defined as list_tasks()\n",
        "\n",
        "These seemed like typical beginner mistakes related to typos, wrong variable names, and inconsistent function calls.\n",
        "\n",
        "**My AI Prompt:**\n",
        "\n",
        "\n"
      ],
      "metadata": {
        "id": "a7cjEaR5bfr7"
      }
    },
    {
      "cell_type": "code",
      "source": [
        "Please review this Python code for a simple command-line task manager. It uses a list to store tasks and includes functions to add, remove, and list them. Identify beginner-level errors such as incorrect variable names, logic mistakes, or typos that would prevent the code from running or behaving as expected"
      ],
      "metadata": {
        "id": "MZViZNIaaMgC"
      },
      "execution_count": null,
      "outputs": []
    },
    {
      "cell_type": "markdown",
      "source": [
        "**AI’s Complete Error Analysis:**"
      ],
      "metadata": {
        "id": "ijQ1vbyIfhCi"
      }
    },
    {
      "cell_type": "code",
      "source": [
        "Thanks for sharing your code! This is a solid start, but there are a few **beginner-level bugs** that would either cause runtime errors or incorrect behavior.\n",
        "\n",
        "---\n",
        "\n",
        "### 🐞 **Code Review – Errors Identified**\n",
        "\n",
        "#### 🔴 **Error 1: Typo in `remove_task()`**\n",
        "\n",
        "```python\n",
        "if index < len(tas):  # Error: 'tas' is undefined\n",
        "```\n",
        "\n",
        "* ❌ `tas` is a typo.\n",
        "* ✅ **Fix**: Change it to `tasks`.\n",
        "\n",
        "#### 🔴 **Error 2: Wrong variable in `list_tasks()`**\n",
        "\n",
        "```python\n",
        "for i, t in enumerate(task):  # Error: 'task' is undefined\n",
        "```\n",
        "\n",
        "* ❌ `task` is not the correct list; it should be `tasks`.\n",
        "* ✅ **Fix**: Change `enumerate(task)` to `enumerate(tasks)`.\n",
        "\n",
        "#### 🔴 **Error 3: Misspelled function call**\n",
        "\n",
        "```python\n",
        "list_task()  # Error: function is named 'list_tasks'\n",
        "```\n",
        "\n",
        "* ❌ `list_task` does not exist.\n",
        "* ✅ **Fix**: Change it to `list_tasks()`.\n",
        "\n",
        "---\n",
        "\n",
        "### ✅ **Corrected Version**\n",
        "\n",
        "Here is the fixed code with all issues resolved:\n",
        "\n",
        "```python\n",
        "# fixed_task_manager.py\n",
        "tasks = []\n",
        "\n",
        "def add_task(task):\n",
        "    tasks.append(task)\n",
        "    print(f\"Added: {task}\")\n",
        "\n",
        "def remove_task(index):\n",
        "    if index < len(tasks):  # Fixed typo here\n",
        "        removed = tasks[index]\n",
        "        del tasks[index]\n",
        "        print(f\"Removed: {removed}\")\n",
        "    else:\n",
        "        print(\"Invalid index!\")\n",
        "\n",
        "def list_tasks():\n",
        "    if not tasks:\n",
        "        print(\"No tasks available.\")\n",
        "    else:\n",
        "        for i, t in enumerate(tasks):  # Fixed wrong variable\n",
        "            print(f\"{i+1}: {t}\")\n",
        "\n",
        "def main():\n",
        "    add_task(\"Buy milk\")\n",
        "    add_task(\"Pay bills\")\n",
        "    add_task(\"Walk dog\")\n",
        "    list_tasks()\n",
        "    remove_task(1)\n",
        "    list_tasks()  # Fixed function name\n",
        "\n",
        "if __name__ == \"__main__\":\n",
        "    main()\n",
        "```\n",
        "\n",
        "---\n",
        "\n",
        "### ✅ Output when you run it:\n",
        "\n",
        "```\n",
        "Added: Buy milk\n",
        "Added: Pay bills\n",
        "Added: Walk dog\n",
        "1: Buy milk\n",
        "2: Pay bills\n",
        "3: Walk dog\n",
        "Removed: Pay bills\n",
        "1: Buy milk\n",
        "2: Walk dog\n",
        "```\n",
        "\n",
        "Let me know if you’d like to add file saving/loading or menu input next!\n"
      ],
      "metadata": {
        "id": "mTgBPdY2VQqV"
      },
      "execution_count": null,
      "outputs": []
    },
    {
      "cell_type": "markdown",
      "source": [
        "**Comparison of Findings:**\n",
        "I pointed the major errors (such as the tas typo and function name mismatch) using basic logic tracing. The AI confirmed these and also noticed the incorrect loop variable and an edge case around input bounds. This showed me how even small naming errors cause runtime crashes and how precise debugging helps prevent them."
      ],
      "metadata": {
        "id": "PVMmiXrGgDax"
      }
    },
    {
      "cell_type": "markdown",
      "source": [
        "**Course Reference:**\n",
        "I applied the debugging strategies from Week 11: Files and Exception Handling and the attention-to-detail skills from Week 1: Python Fundamentals. These helped me identify typos, variable mismatches, and logic issues that commonly lead to runtime errors in beginner-level code"
      ],
      "metadata": {
        "id": "2l7flaabgRa4"
      }
    },
    {
      "cell_type": "markdown",
      "source": [
        "# 2.2 Fix & Manual Rewrite\n",
        "**My AI Prompts:**\n"
      ],
      "metadata": {
        "id": "EWrZFuEugwNF"
      }
    },
    {
      "cell_type": "code",
      "source": [
        "Prompt 1: Please correct the errors in this Python task manager code. It should allow users to add, list, and remove tasks using basic functions and lists. Fix beginner-level issues only. Add doctest examples for each function using techniques suitable for an introductory programming course\n",
        "\n",
        "Prompt 2: Please fix the doctests in this task manager program. The tasks list is a global variable and its contents are interfering between doctest examples and the main program. Modify the doctests to ensure they always start with the exact task list required. Use tasks.clear() at the start of each test, and make sure the expected output matches what the task list actually contains. Use only beginner Python techniques (lists, functions, try/except, doctest)."
      ],
      "metadata": {
        "id": "69DiVnpyhx4I"
      },
      "execution_count": null,
      "outputs": []
    },
    {
      "cell_type": "markdown",
      "source": [
        "**AI's response**"
      ],
      "metadata": {
        "id": "miT3Ait6vSXv"
      }
    },
    {
      "cell_type": "code",
      "source": [
        "Prompt 1:\n",
        "Thanks, Chi! Here's your corrected **Python Task Manager** with beginner-friendly fixes and added **doctests** (as per Week 10-level techniques). All logic now works for adding, listing, and removing tasks using just lists and simple functions — no advanced concepts or libraries.\n",
        "\n",
        "---\n",
        "\n",
        "### ✅ **Corrected Task Manager with Doctests**\n",
        "\n",
        "```python\n",
        "# task_manager.py\n",
        "\n",
        "tasks = []\n",
        "\n",
        "def add_task(task):\n",
        "    \"\"\"\n",
        "    Add a task to the task list.\n",
        "\n",
        "    >>> add_task(\"Buy milk\")\n",
        "    Added: Buy milk\n",
        "    >>> add_task(\"Walk dog\")\n",
        "    Added: Walk dog\n",
        "    \"\"\"\n",
        "    tasks.append(task)\n",
        "    print(f\"Added: {task}\")\n",
        "\n",
        "def remove_task(index):\n",
        "    \"\"\"\n",
        "    Remove a task at the given index (0-based).\n",
        "\n",
        "    >>> add_task(\"Test task\")\n",
        "    Added: Test task\n",
        "    >>> remove_task(0)\n",
        "    Removed: Test task\n",
        "    >>> remove_task(5)\n",
        "    Invalid index!\n",
        "    \"\"\"\n",
        "    if 0 <= index < len(tasks):  # Fixed typo and added bounds check\n",
        "        removed = tasks[index]\n",
        "        del tasks[index]\n",
        "        print(f\"Removed: {removed}\")\n",
        "    else:\n",
        "        print(\"Invalid index!\")\n",
        "\n",
        "def list_tasks():\n",
        "    \"\"\"\n",
        "    List all current tasks.\n",
        "\n",
        "    >>> add_task(\"Read book\")\n",
        "    Added: Read book\n",
        "    >>> list_tasks()\n",
        "    1: Buy milk\n",
        "    2: Walk dog\n",
        "    3: Read book\n",
        "    \"\"\"\n",
        "    if not tasks:\n",
        "        print(\"No tasks available.\")\n",
        "    else:\n",
        "        for i, t in enumerate(tasks):  # Fixed wrong variable\n",
        "            print(f\"{i+1}: {t}\")\n",
        "\n",
        "def main():\n",
        "    # Simple menu to demonstrate functionality\n",
        "    add_task(\"Buy milk\")\n",
        "    add_task(\"Walk dog\")\n",
        "    list_tasks()\n",
        "    remove_task(1)\n",
        "    list_tasks()\n",
        "\n",
        "if __name__ == \"__main__\":\n",
        "    import doctest\n",
        "    doctest.testmod()\n",
        "    main()\n",
        "```\n",
        "\n",
        "---\n",
        "\n",
        "### 🧪 What was fixed:\n",
        "\n",
        "| ❌ Original Issue                 | ✅ Fixed Code                                       |\n",
        "| -------------------------------- | -------------------------------------------------- |\n",
        "| `tas` typo in `remove_task()`    | Changed to `tasks`                                 |\n",
        "| `task` used in `enumerate(task)` | Changed to `enumerate(tasks)`                      |\n",
        "| Wrong call: `list_task()`        | Changed to `list_tasks()`                          |\n",
        "| No doctests                      | Added simple doctests to all functions             |\n",
        "| Missing bounds check             | Added `0 <= index < len(tasks)` in `remove_task()` |\n",
        "\n",
        "---\n",
        "\n",
        "### 💡 Notes for You:\n",
        "\n",
        "* The doctests are simple print-based checks — exactly what Week 10 expectations allow.\n",
        "* This script now runs smoothly and also validates itself with `doctest.testmod()`.\n",
        "\n",
        "Would you like me to show how to expand this with file-saving logic using `open()` next?\n"
      ],
      "metadata": {
        "id": "ChjkThkyvh6f"
      },
      "execution_count": null,
      "outputs": []
    },
    {
      "cell_type": "code",
      "source": [
        "Prompt 2:\n",
        "Great catch! When using **global variables like `tasks`**, the doctests can get **confused by leftover data** from previous tests or from the main program. To fix this, we'll:\n",
        "\n",
        "* ✅ Use `tasks.clear()` at the start of each doctest to reset the task list\n",
        "* ✅ Ensure the expected output exactly matches what's printed\n",
        "* ✅ Keep everything beginner-friendly with only lists, functions, and basic try/except\n",
        "\n",
        "---\n",
        "\n",
        "### ✅ **Revised & Doctest-Safe Task Manager**\n",
        "\n",
        "```python\n",
        "tasks = []\n",
        "\n",
        "def add_task(task):\n",
        "    \"\"\"\n",
        "    Add a task to the list.\n",
        "\n",
        "    >>> tasks.clear()\n",
        "    >>> add_task(\"Buy milk\")\n",
        "    Added: Buy milk\n",
        "    >>> add_task(\"Walk dog\")\n",
        "    Added: Walk dog\n",
        "    \"\"\"\n",
        "    tasks.append(task)\n",
        "    print(f\"Added: {task}\")\n",
        "\n",
        "def remove_task(index):\n",
        "    \"\"\"\n",
        "    Remove a task by its index (starting from 0).\n",
        "\n",
        "    >>> tasks.clear()\n",
        "    >>> add_task(\"Test task\")\n",
        "    Added: Test task\n",
        "    >>> remove_task(0)\n",
        "    Removed: Test task\n",
        "\n",
        "    >>> remove_task(5)\n",
        "    Invalid index!\n",
        "    \"\"\"\n",
        "    try:\n",
        "        if 0 <= index < len(tasks):\n",
        "            removed = tasks[index]\n",
        "            del tasks[index]\n",
        "            print(f\"Removed: {removed}\")\n",
        "        else:\n",
        "            print(\"Invalid index!\")\n",
        "    except (ValueError, IndexError):\n",
        "        print(\"Error: Please enter a valid number.\")\n",
        "\n",
        "def list_tasks():\n",
        "    \"\"\"\n",
        "    List all tasks.\n",
        "\n",
        "    >>> tasks.clear()\n",
        "    >>> add_task(\"Call Alice\")\n",
        "    Added: Call Alice\n",
        "    >>> add_task(\"Send email\")\n",
        "    Added: Send email\n",
        "    >>> list_tasks()\n",
        "    1: Call Alice\n",
        "    2: Send email\n",
        "    \"\"\"\n",
        "    if not tasks:\n",
        "        print(\"No tasks available.\")\n",
        "    else:\n",
        "        for i, t in enumerate(tasks):\n",
        "            print(f\"{i+1}: {t}\")\n",
        "\n",
        "def main():\n",
        "    \"\"\"\n",
        "    Runs a sample task flow.\n",
        "    \"\"\"\n",
        "    add_task(\"Buy milk\")\n",
        "    add_task(\"Pay bills\")\n",
        "    add_task(\"Walk dog\")\n",
        "    list_tasks()\n",
        "    remove_task(1)\n",
        "    list_tasks()\n",
        "\n",
        "if __name__ == \"__main__\":\n",
        "    import doctest\n",
        "    doctest.testmod()\n",
        "\n",
        "    # Optional: run sample program\n",
        "    main()\n",
        "```\n",
        "\n",
        "---\n",
        "\n",
        "### 🧪 Doctest Fix Summary\n",
        "\n",
        "* `tasks.clear()` ensures the global list is reset before each doctest example\n",
        "* Each example now produces **independent, predictable output**\n",
        "* Output text (e.g. `Added:`, `Removed:`) **matches print behavior exactly**\n",
        "\n",
        "---\n",
        "\n",
        "Let me know if you’d like to add user input, file saving, or a text-based menu loop next!"
      ],
      "metadata": {
        "id": "s7nwF4XT11F9"
      },
      "execution_count": null,
      "outputs": []
    },
    {
      "cell_type": "markdown",
      "source": [
        "**My Hand-Written Corrected Version:**"
      ],
      "metadata": {
        "id": "AsJfUJc4h066"
      }
    },
    {
      "cell_type": "code",
      "source": [
        "tasks = []\n",
        "\n",
        "def add_task(task):\n",
        "    \"\"\"\n",
        "    Adds a new task to the list.\n",
        "\n",
        "    >>> tasks.clear()\n",
        "    >>> add_task(\"Buy milk\")\n",
        "    Added: Buy milk\n",
        "    >>> tasks\n",
        "    ['Buy milk']\n",
        "    \"\"\"\n",
        "    tasks.append(task)  # Fixed: correctly appends to shared task list\n",
        "    print(f\"Added: {task}\")\n",
        "\n",
        "def remove_task(index):\n",
        "    \"\"\"\n",
        "    Removes a task at the given index.\n",
        "\n",
        "    >>> tasks.clear()\n",
        "    >>> add_task(\"Pay bills\")\n",
        "    Added: Pay bills\n",
        "    >>> remove_task(0)\n",
        "    Removed: Pay bills\n",
        "    >>> remove_task(5)\n",
        "    Invalid index!\n",
        "    \"\"\"\n",
        "    try:\n",
        "        removed = tasks[index]  # Fixed: simplified to use try/except only\n",
        "        del tasks[index]\n",
        "        print(f\"Removed: {removed}\")\n",
        "    except IndexError:\n",
        "        print(\"Invalid index!\")  # Week 11: safe error handling\n",
        "\n",
        "def list_tasks():\n",
        "    \"\"\"\n",
        "    Lists all current tasks.\n",
        "\n",
        "    >>> tasks.clear()\n",
        "    >>> add_task(\"Walk dog\")\n",
        "    Added: Walk dog\n",
        "    >>> list_tasks()\n",
        "    1: Walk dog\n",
        "    \"\"\"\n",
        "    if not tasks:\n",
        "        print(\"No tasks available.\")\n",
        "    else:\n",
        "        for i, task in enumerate(tasks):  # Week 5: enumerate for index display\n",
        "            print(f\"{i + 1}: {task}\")     # Fixed: starts at 1 for readability\n",
        "\n",
        "def main():\n",
        "    # Manual run (not tested via doctest)\n",
        "    add_task(\"Buy milk\")\n",
        "    add_task(\"Pay bills\")\n",
        "    add_task(\"Walk dog\")\n",
        "    list_tasks()\n",
        "    remove_task(1)\n",
        "    list_tasks()\n",
        "\n",
        "# Run doctests and main program\n",
        "if __name__ == \"__main__\":\n",
        "    import doctest\n",
        "    doctest.testmod()\n",
        "    main()"
      ],
      "metadata": {
        "colab": {
          "base_uri": "https://localhost:8080/"
        },
        "id": "41uESvTph0Xf",
        "outputId": "c708294b-4ce3-4897-e763-bcd96328e043"
      },
      "execution_count": 5,
      "outputs": [
        {
          "output_type": "stream",
          "name": "stdout",
          "text": [
            "Added: Buy milk\n",
            "Added: Pay bills\n",
            "Added: Walk dog\n",
            "1: Buy milk\n",
            "2: Pay bills\n",
            "3: Walk dog\n",
            "Removed: Pay bills\n",
            "1: Buy milk\n",
            "2: Walk dog\n"
          ]
        }
      ]
    },
    {
      "cell_type": "markdown",
      "source": [
        "**Course Reference: **\n",
        "\n",
        "My error handling approach comes from Week 11: Files and Exception Handling, where we used try/except to catch invalid user input.\n",
        "\n",
        "My testing approach follows Week 12: Testing and Debugging, especially the use of doctest to write in-code test examples that align with user expectations.\n",
        "\n",
        "I also used functions (Week 4), lists and loops (Week 5), and clear pseudocode logic (Week 2) to plan and modularise the program."
      ],
      "metadata": {
        "id": "6TosDtw9kr36"
      }
    },
    {
      "cell_type": "markdown",
      "source": [
        "# Section 3: Debug & Refine WeatherWise API\n",
        "---\n",
        "#  3.1 Issue Analysis with Course Connection"
      ],
      "metadata": {
        "id": "lVqju4XQmL5z"
      }
    },
    {
      "cell_type": "markdown",
      "source": [
        "**List ≥3 Problems With the Current Function**\n",
        "\n",
        "Problem 1: No Input Validation for  Empty or Whitespace Strings\n",
        "* Issue: The condition if not city fails to catch values like \" \".\n",
        "\n",
        "* Fix: Use .strip() to check for space-only input:\n",
        "if not city.strip(): return None\n",
        "\n",
        "* Course Reference: Week 6 – Python Dictionaries - defensive programming and input validation using conditions before processing user input.\n",
        "\n",
        "Problem 2: No HTTP Status Code Check\n",
        "* Issue: If the API returns an error (e.g., 404), calling .json() may fail or return invalid data.\n",
        "\n",
        "* Fix: Add an HTTP check before parsing:\n",
        "if response.status_code != 200: return None\n",
        "\n",
        "* Course Reference:\n",
        "Week 8: APIs and External Data – validating API responses before processing\n",
        "\n",
        "Problem 3: Unsafe Nested Dictionary Access\n",
        "* Issue: The function assumes the response contains data['current_condition'][0]['weatherDesc'][0]['value']. If missing, it crashes.\n",
        "\n",
        "* Fix: Wrap that logic in a try/except (KeyError, IndexError, TypeError)\n",
        "\n",
        "* Course Reference:\n",
        "Week 8: JSON from APIs – error handling for deeply nested structures\n",
        "\n"
      ],
      "metadata": {
        "id": "FSKYIrDi5ywA"
      }
    },
    {
      "cell_type": "markdown",
      "source": [
        "**My AI Prompt:**"
      ],
      "metadata": {
        "id": "Z7hG0pyS5i1w"
      }
    },
    {
      "cell_type": "code",
      "source": [
        "Review this function using only error handling techniques taught in an introductory Python course. Focus on input validation, defensive programming, and basic exception handling. Identify problems with how the function currently handles unexpected user input and external API responses."
      ],
      "metadata": {
        "id": "F9Bbkp8MmprB"
      },
      "execution_count": null,
      "outputs": []
    },
    {
      "cell_type": "markdown",
      "source": [
        "**AI's analysis:**"
      ],
      "metadata": {
        "id": "8UHKZa0hAg-L"
      }
    },
    {
      "cell_type": "code",
      "source": [
        "Thanks, Chi! Let’s review your function **step by step** using only **introductory-level Python techniques**: input validation, defensive programming, and basic `try/except` error handling.\n",
        "\n",
        "---\n",
        "\n",
        "### 🧪 Function Under Review\n",
        "\n",
        "```python\n",
        "import requests\n",
        "\n",
        "def ideal_safe_weather_data_fetch(city):\n",
        "    try:\n",
        "        if not city:\n",
        "            print(\"Error: City name cannot be empty\")\n",
        "            return None\n",
        "\n",
        "        url = f\"http://wttr.in/{city}?format=j1\"\n",
        "        response = requests.get(url)\n",
        "        data = response.json()\n",
        "\n",
        "        try:\n",
        "            current = data['current_condition'][0]\n",
        "            weather_info = {\n",
        "                'city': city,\n",
        "                'temperature': current['temp_C'],\n",
        "                'wind_speed': current['windspeedKmph'],\n",
        "                'description': current['weatherDesc'][0]['value']\n",
        "            }\n",
        "            return weather_info\n",
        "        except:\n",
        "            print(\"Error: Could not extract weather data from response\")\n",
        "            return None\n",
        "\n",
        "    except:\n",
        "        print(\"Error: Could not connect to weather service\")\n",
        "        return None\n",
        "```\n",
        "\n",
        "---\n",
        "\n",
        "### 🔍 Beginner-Level Issues and Fixes\n",
        "\n",
        "#### 1. ❌ **No check for whitespace-only city names**\n",
        "\n",
        "* **Issue**: `if not city:` fails to catch `\"   \"`\n",
        "* ✅ **Fix**:\n",
        "\n",
        "  ```python\n",
        "  if not city.strip():\n",
        "      print(\"Error: City name cannot be empty\")\n",
        "      return None\n",
        "  ```\n",
        "\n",
        "---\n",
        "\n",
        "#### 2. ❌ **No check for HTTP status code**\n",
        "\n",
        "* **Issue**: If the response is a 404 or 503, `.json()` might fail or return unexpected data\n",
        "* ✅ **Fix**:\n",
        "\n",
        "  ```python\n",
        "  if response.status_code != 200:\n",
        "      print(\"Error: Weather service is unavailable\")\n",
        "      return None\n",
        "  ```\n",
        "\n",
        "---\n",
        "\n",
        "#### 3. ❌ **Generic `except:` without specifying error**\n",
        "\n",
        "* **Issue**: Hides the real reason (was it a network error? missing key? wrong index?)\n",
        "* ✅ **Fix**: Use common error types (still beginner-friendly)\n",
        "\n",
        "  ```python\n",
        "  except (KeyError, IndexError, TypeError):\n",
        "      print(\"Error: Unexpected data format\")\n",
        "      return None\n",
        "  ```\n",
        "\n",
        "---\n",
        "\n",
        "#### 4. ❌ **Assumes nested keys always exist**\n",
        "\n",
        "* **Issue**: If `data['current_condition'][0]['weatherDesc'][0]['value']` is missing or misformatted, it breaks\n",
        "* ✅ **Fix**: Use a `try/except` just around that access, or check with `if` first\n",
        "\n",
        "---\n",
        "\n",
        "### ✅ Suggested Corrected Version (Intro-Friendly)\n",
        "\n",
        "```python\n",
        "def ideal_safe_weather_data_fetch(city):\n",
        "    try:\n",
        "        if not city.strip():\n",
        "            print(\"Error: City name cannot be empty\")\n",
        "            return None\n",
        "\n",
        "        url = f\"http://wttr.in/{city}?format=j1\"\n",
        "        response = requests.get(url)\n",
        "\n",
        "        if response.status_code != 200:\n",
        "            print(\"Error: Weather service is unavailable\")\n",
        "            return None\n",
        "\n",
        "        data = response.json()\n",
        "\n",
        "        try:\n",
        "            current = data['current_condition'][0]\n",
        "            weather_info = {\n",
        "                'city': city,\n",
        "                'temperature': current['temp_C'],\n",
        "                'wind_speed': current['windspeedKmph'],\n",
        "                'description': current['weatherDesc'][0]['value']\n",
        "            }\n",
        "            return weather_info\n",
        "        except (KeyError, IndexError, TypeError):\n",
        "            print(\"Error: Unexpected data format\")\n",
        "            return None\n",
        "\n",
        "    except:\n",
        "        print(\"Error: Connection problem or invalid response\")\n",
        "        return None\n",
        "```\n",
        "\n",
        "---\n",
        "\n",
        "### 📌 Summary of Issues & Beginner Fixes\n",
        "\n",
        "| Problem                               | Beginner-Friendly Fix                              |\n",
        "| ------------------------------------- | -------------------------------------------------- |\n",
        "| Accepts blank/space-only input        | Use `if not city.strip()`                          |\n",
        "| No check for failed HTTP response     | Use `if response.status_code != 200`               |\n",
        "| Blindly accesses nested data          | Use `try/except (KeyError, IndexError, TypeError)` |\n",
        "| Uses broad `except:` with no feedback | Add meaningful `print()` messages                  |\n",
        "\n",
        "Let me know if you want to add doctests or connect this to a text-based chatbot!\n"
      ],
      "metadata": {
        "id": "fio1s1jPAm5W"
      },
      "execution_count": null,
      "outputs": []
    },
    {
      "cell_type": "markdown",
      "source": [
        "#  3.2 Function Refinement with Course Constraints"
      ],
      "metadata": {
        "id": "0vYdanso-pJx"
      }
    },
    {
      "cell_type": "markdown",
      "source": [
        "All the techniques used in this version of refined_safe_weather_data_fetch() are from Week 8. I added if not city.strip() to test for blank inputs to protect my code. I had just one try/except block that did not mention particular exceptions which fits the simple approach taught in the lab. I aimed to follow the “plan before you code” style and make sure the function deals with a distinct task only. Similar to what we practiced, I added doctests to confirm the results and assist should any bugs occur."
      ],
      "metadata": {
        "id": "LA1SEd6vEqLJ"
      }
    },
    {
      "cell_type": "code",
      "source": [
        "import requests\n",
        "\n",
        "def refined_safe_weather_data_fetch(city):\n",
        "    \"\"\"\n",
        "    Fetch weather data with basic error handling - Week 8 style\n",
        "\n",
        "    >>> refined_safe_weather_data_fetch(\"\")\n",
        "    Error: City name cannot be empty\n",
        "\n",
        "    >>> result = refined_safe_weather_data_fetch(\"London\")  # doctest: +SKIP\n",
        "    >>> isinstance(result, dict)  # doctest: +SKIP\n",
        "    True\n",
        "\n",
        "    >>> refined_safe_weather_data_fetch(\"InvalidCity123\")  # doctest: +SKIP\n",
        "    Error: Could not extract weather data\n",
        "    \"\"\"\n",
        "    if not city.strip():\n",
        "        print(\"Error: City name cannot be empty\")\n",
        "        return None\n",
        "\n",
        "    try:\n",
        "        url = f\"http://wttr.in/{city}?format=j1\"\n",
        "        response = requests.get(url)\n",
        "        data = response.json()\n",
        "\n",
        "        current = data['current_condition'][0]\n",
        "        weather_info = {\n",
        "            'city': city,\n",
        "            'temperature': current['temp_C'],\n",
        "            'wind_speed': current['windspeedKmph'],\n",
        "            'description': current['weatherDesc'][0]['value']\n",
        "        }\n",
        "        return weather_info\n",
        "\n",
        "    except:\n",
        "        print(\"Error: Could not extract weather data\")\n",
        "        return None"
      ],
      "metadata": {
        "id": "1xC21OdlBZ0h"
      },
      "execution_count": 11,
      "outputs": []
    },
    {
      "cell_type": "code",
      "source": [
        "if __name__ == \"__main__\":\n",
        "    import doctest\n",
        "    doctest.testmod()"
      ],
      "metadata": {
        "id": "lfcA9ryRBbGS"
      },
      "execution_count": 12,
      "outputs": []
    },
    {
      "cell_type": "code",
      "source": [
        "print(refined_safe_weather_data_fetch(\"\"))           # Should print error about empty city\n",
        "print(refined_safe_weather_data_fetch(\"London\"))     # Should return a dictionary (if online)\n",
        "print(refined_safe_weather_data_fetch(\"InvalidCity123\"))  # Might return error or unusual data\n"
      ],
      "metadata": {
        "colab": {
          "base_uri": "https://localhost:8080/"
        },
        "id": "6dBdXOwSBfkv",
        "outputId": "41d39194-1ff4-46f1-ef4a-803be7acebea"
      },
      "execution_count": 13,
      "outputs": [
        {
          "output_type": "stream",
          "name": "stdout",
          "text": [
            "Error: City name cannot be empty\n",
            "None\n",
            "{'city': 'London', 'temperature': '17', 'wind_speed': '16', 'description': 'Partly cloudy'}\n",
            "{'city': 'InvalidCity123', 'temperature': '21', 'wind_speed': '4', 'description': 'Moderate or heavy rain shower'}\n"
          ]
        }
      ]
    },
    {
      "cell_type": "markdown",
      "source": [
        "##3.3 Comparison Analysis\n",
        "**Two Similarities**\n",
        "\n",
        "* Both use basic `try/except` blocks\n",
        "\n",
        "Each version uses try/except to guard against API failures or missing JSON data. This demonstrates Week 8's learning goal: applying basic error handling when working with APIs and external data.\n",
        "\n",
        "* Both validate input using simple if checks\n",
        "\n",
        "Each function checks that city input is not empty or whitespace-only using `if not city.strip()`. This reflects Week 8's defensive programming practices introduced alongside real-world API integration.\n",
        "\n",
        "**Two Differences**\n",
        "\n",
        "1. Exception handling specificity\n",
        "\n",
        "The refined version uses a single general except: block with a basic print message. This is appropriate for Week 8, where we only use simple try/except.\n",
        "The ideal version uses specific exception types like KeyError, IndexError, and separates data access errors from connection errors. This technique goes beyond Week 8 and reflects more advanced control over error feedback.\n",
        "\n",
        "2. Function structure complexity\n",
        "\n",
        "The refined version handles everything in a single block, which is easier to read for beginners. This matches Week 8’s lab format, where clarity and simplicity are prioritized.\n",
        "The ideal version separates the API call and JSON access into nested try/except blocks, improving modularity. While this improves error tracing, it's not required at the Week 8 level and introduces more complexity.\n",
        "\n",
        "**One Course Concept Demonstrated**\n",
        "\n",
        "Basic Exception Handling (Week 8):\n",
        "The refined version follows Week 8’s lesson by wrapping risky API operations in a try/except block and using simple `print()` statements to notify the user. This is a key strategy from the Week 8 labs on handling unreliable data from external APIs.\n",
        "\n",
        "**One Improvement After Reading Chapter 6**\n",
        "\n",
        "After reviewing Textbook Chapter 6, which discusses clarity of error reporting, I would improve the refined version by making the error message more specific. Instead of one general `\"Error: Could not extract weather data\"`, I would consider splitting it into clearer stages like:\n",
        "\n",
        "* `\"Error: Could not connect to weather service\"`\n",
        "* `\"Error: Data format unexpected\"`\n",
        "\n",
        "This would improve debugging and still follow the defensive programming style we learned — without adding complexity."
      ],
      "metadata": {
        "id": "0Eaxadq1FxWy"
      }
    },
    {
      "cell_type": "markdown",
      "source": [
        "# Section 4: Manual Implementation & Course Reflection\n",
        "---\n",
        "#  4.1 Manual Implementation with Course Constraints"
      ],
      "metadata": {
        "id": "iQuBty5D6MyU"
      }
    },
    {
      "cell_type": "markdown",
      "source": [
        "**`display_menu()` – Week 3 Formatting**"
      ],
      "metadata": {
        "id": "ZPfTgrew9l8W"
      }
    },
    {
      "cell_type": "code",
      "source": [
        "def display_menu():\n",
        "    \"\"\"\n",
        "    Display menu options - Week 3 format with fixed print order\n",
        "\n",
        "    >>> display_menu()  # doctest: +SKIP\n",
        "    1. Add task\n",
        "    2. List tasks\n",
        "    3. Remove task\n",
        "    4. Quit\n",
        "    \"\"\"\n",
        "    print(\"1. Add task\")\n",
        "    print(\"2. List tasks\")\n",
        "    print(\"3. Remove task\")\n",
        "    print(\"4. Quit\")"
      ],
      "metadata": {
        "id": "IBxBL-Fc9rx7"
      },
      "execution_count": 23,
      "outputs": []
    },
    {
      "cell_type": "markdown",
      "source": [
        "**`get_user_choice()` – Week 6 Input Validation**"
      ],
      "metadata": {
        "id": "oD2TlTSM-mJw"
      }
    },
    {
      "cell_type": "code",
      "source": [
        "def get_user_choice():\n",
        "    \"\"\"\n",
        "    Get and validate user choice - Week 6 input validation style\n",
        "\n",
        "    >>> # get_user_choice()  # doctest: +SKIP\n",
        "    \"\"\"\n",
        "    while True:\n",
        "        choice = input(\"Enter your choice (1-4): \")\n",
        "        if choice.isdigit():\n",
        "            number = int(choice)\n",
        "            if 1 <= number <= 4:\n",
        "                return number\n",
        "        print(\"Invalid input. Please enter a number from 1 to 4.\")"
      ],
      "metadata": {
        "id": "K0NHmYYa-tW8"
      },
      "execution_count": 24,
      "outputs": []
    },
    {
      "cell_type": "markdown",
      "source": [
        "**`main()` – Week 5 Loop and List Patterns**"
      ],
      "metadata": {
        "id": "twojHN8Y-5Lv"
      }
    },
    {
      "cell_type": "code",
      "source": [
        "def main():\n",
        "    \"\"\"Main program loop – Week 5 while-loop structure\"\"\"\n",
        "    tasks = []\n",
        "    while True:\n",
        "        display_menu()\n",
        "        choice = get_user_choice()\n",
        "\n",
        "        if choice == 1:\n",
        "            task = input(\"Enter a new task: \")\n",
        "            tasks.append(task)\n",
        "            print(\"Task added.\")\n",
        "        elif choice == 2:\n",
        "            print(\"Current tasks:\")\n",
        "            for i, task in enumerate(tasks):\n",
        "                print(f\"{i + 1}. {task}\")\n",
        "        elif choice == 3:\n",
        "            if tasks:\n",
        "                task_num = int(input(\"Enter task number to remove: \"))\n",
        "                if 0 < task_num <= len(tasks):\n",
        "                    removed = tasks.pop(task_num - 1)\n",
        "                    print(f\"Removed task: {removed}\")\n",
        "                else:\n",
        "                    print(\"Invalid task number.\")\n",
        "            else:\n",
        "                print(\"No tasks to remove.\")\n",
        "        elif choice == 4:\n",
        "            print(\"Goodbye!\")\n",
        "            break"
      ],
      "metadata": {
        "id": "t713ZuBgAVA2"
      },
      "execution_count": 21,
      "outputs": []
    },
    {
      "cell_type": "code",
      "source": [
        "# Run this to start the program manually\n",
        "if __name__ == \"__main__\":\n",
        "    main()\n"
      ],
      "metadata": {
        "colab": {
          "base_uri": "https://localhost:8080/"
        },
        "id": "XjpeTUTb_GSU",
        "outputId": "0e2f81fb-2af7-4997-a69e-11d6dab4ee10"
      },
      "execution_count": 26,
      "outputs": [
        {
          "output_type": "stream",
          "name": "stdout",
          "text": [
            "1. Add task\n",
            "2. List tasks\n",
            "3. Remove task\n",
            "4. Quit\n",
            "Enter your choice (1-4): 1\n",
            "Enter a new task: 2\n",
            "Task added.\n",
            "1. Add task\n",
            "2. List tasks\n",
            "3. Remove task\n",
            "4. Quit\n",
            "Enter your choice (1-4): 3\n",
            "Current tasks:\n",
            "1. 2\n",
            "Enter task number to remove: 2\n",
            "Invalid task number.\n",
            "1. Add task\n",
            "2. List tasks\n",
            "3. Remove task\n",
            "4. Quit\n",
            "Enter your choice (1-4): 4\n",
            "Exiting task manager.\n"
          ]
        }
      ]
    },
    {
      "cell_type": "markdown",
      "source": [
        "#4.2 Course-Connected Reflection\n",
        "**Workflow Balance with Course Learning**\n",
        "\n",
        "Throughout the project, I applied the **“planning before coding”** strategy from **Week 2: User Preferences Project**, where I began with pseudocode before asking AI for help. I used AI to refine my `refined_safe_weather_data_fetch()` function only after manually applying **input validation and defensive programming** from **Week 6**. This balance helped me learn how to improve code structure while staying within the course’s basic constraints and standards.\n",
        "\n",
        "**Course Concept Application**\n",
        "\n",
        "I used an error handling mindset from **Week 8: APIs and External Data** when testing how the weather API might fail and wrapped risky code in a `try/except`. I also used defensive programming from **Week 6: Python Dictionaries** to reject blank or whitespace-only city names. These were crucial when running doctest in **Week 12**, helping me isolate and correct problems early and avoid crashes during testing.\n",
        "\n",
        "**Learning Transfer**\n",
        "For my final project, I’ll apply the iterative refinement cycle from **Week 4: Modular Design**, using feedback loops to improve structure. In **Assignment 2**, I received feedback that my functions lacked proper **input validation**. I’ll fix this using the **defensive programming** strategy from **Week 6**, rewriting my early code with clearer condition checks and rerunning doctests to confirm improvements.\n"
      ],
      "metadata": {
        "id": "fNw1Ew2UC7ad"
      }
    }
  ]
}